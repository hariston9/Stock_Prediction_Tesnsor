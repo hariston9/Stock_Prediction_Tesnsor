{
  "nbformat": 4,
  "nbformat_minor": 0,
  "metadata": {
    "colab": {
      "name": "Stock Prediction using Tensor Flow Keras.ipynb",
      "provenance": [],
      "collapsed_sections": []
    },
    "kernelspec": {
      "name": "python3",
      "display_name": "Python 3"
    },
    "language_info": {
      "name": "python"
    }
  },
  "cells": [
    {
      "cell_type": "code",
      "metadata": {
        "id": "48wcPUpmXZiL"
      },
      "source": [
        "#from IPython.core.debugger import Tracer; Tracer()()\n"
      ],
      "execution_count": null,
      "outputs": []
    },
    {
      "cell_type": "code",
      "metadata": {
        "id": "dS2M4Ih3bAop",
        "colab": {
          "base_uri": "https://localhost:8080/"
        },
        "outputId": "7e9b7e27-721c-4562-9416-ed9acabf792c"
      },
      "source": [
        "!pip install ipython\n",
        "import IPython"
      ],
      "execution_count": null,
      "outputs": [
        {
          "output_type": "stream",
          "name": "stdout",
          "text": [
            "Requirement already satisfied: ipython in /usr/local/lib/python3.7/dist-packages (5.5.0)\n",
            "Requirement already satisfied: pygments in /usr/local/lib/python3.7/dist-packages (from ipython) (2.6.1)\n",
            "Requirement already satisfied: simplegeneric>0.8 in /usr/local/lib/python3.7/dist-packages (from ipython) (0.8.1)\n",
            "Requirement already satisfied: pexpect in /usr/local/lib/python3.7/dist-packages (from ipython) (4.8.0)\n",
            "Requirement already satisfied: prompt-toolkit<2.0.0,>=1.0.4 in /usr/local/lib/python3.7/dist-packages (from ipython) (1.0.18)\n",
            "Requirement already satisfied: setuptools>=18.5 in /usr/local/lib/python3.7/dist-packages (from ipython) (57.4.0)\n",
            "Requirement already satisfied: pickleshare in /usr/local/lib/python3.7/dist-packages (from ipython) (0.7.5)\n",
            "Requirement already satisfied: traitlets>=4.2 in /usr/local/lib/python3.7/dist-packages (from ipython) (5.1.1)\n",
            "Requirement already satisfied: decorator in /usr/local/lib/python3.7/dist-packages (from ipython) (4.4.2)\n",
            "Requirement already satisfied: wcwidth in /usr/local/lib/python3.7/dist-packages (from prompt-toolkit<2.0.0,>=1.0.4->ipython) (0.2.5)\n",
            "Requirement already satisfied: six>=1.9.0 in /usr/local/lib/python3.7/dist-packages (from prompt-toolkit<2.0.0,>=1.0.4->ipython) (1.15.0)\n",
            "Requirement already satisfied: ptyprocess>=0.5 in /usr/local/lib/python3.7/dist-packages (from pexpect->ipython) (0.7.0)\n"
          ]
        }
      ]
    },
    {
      "cell_type": "code",
      "metadata": {
        "id": "NiWfF1W9X4mC"
      },
      "source": [
        "#import ipython\n",
        "from IPython.core.debugger import set_trace\n",
        "#%load_ext nb_black"
      ],
      "execution_count": null,
      "outputs": []
    },
    {
      "cell_type": "code",
      "metadata": {
        "id": "TDycp8z8W_cf"
      },
      "source": [
        "import pandas as pd\n",
        "import numpy as np\n",
        "import os\n",
        "import matplotlib.pyplot as plt\n",
        "import time\n",
        "\n",
        "plt.style.use(style=\"seaborn\")\n",
        "%matplotlib inline"
      ],
      "execution_count": null,
      "outputs": []
    },
    {
      "cell_type": "code",
      "metadata": {
        "colab": {
          "base_uri": "https://localhost:8080/"
        },
        "id": "xMr5UJJIcTOC",
        "outputId": "e18ac3d5-b9c6-42e6-ba5b-87c41322ef78"
      },
      "source": [
        "!pip install yfinance"
      ],
      "execution_count": null,
      "outputs": [
        {
          "output_type": "stream",
          "name": "stdout",
          "text": [
            "Collecting yfinance\n",
            "  Downloading yfinance-0.1.70-py2.py3-none-any.whl (26 kB)\n",
            "Requirement already satisfied: numpy>=1.15 in /usr/local/lib/python3.7/dist-packages (from yfinance) (1.21.5)\n",
            "Collecting lxml>=4.5.1\n",
            "  Downloading lxml-4.8.0-cp37-cp37m-manylinux_2_17_x86_64.manylinux2014_x86_64.manylinux_2_24_x86_64.whl (6.4 MB)\n",
            "\u001b[K     |████████████████████████████████| 6.4 MB 22.2 MB/s \n",
            "\u001b[?25hCollecting requests>=2.26\n",
            "  Downloading requests-2.27.1-py2.py3-none-any.whl (63 kB)\n",
            "\u001b[K     |████████████████████████████████| 63 kB 1.1 MB/s \n",
            "\u001b[?25hRequirement already satisfied: multitasking>=0.0.7 in /usr/local/lib/python3.7/dist-packages (from yfinance) (0.0.10)\n",
            "Requirement already satisfied: pandas>=0.24.0 in /usr/local/lib/python3.7/dist-packages (from yfinance) (1.3.5)\n",
            "Requirement already satisfied: python-dateutil>=2.7.3 in /usr/local/lib/python3.7/dist-packages (from pandas>=0.24.0->yfinance) (2.8.2)\n",
            "Requirement already satisfied: pytz>=2017.3 in /usr/local/lib/python3.7/dist-packages (from pandas>=0.24.0->yfinance) (2018.9)\n",
            "Requirement already satisfied: six>=1.5 in /usr/local/lib/python3.7/dist-packages (from python-dateutil>=2.7.3->pandas>=0.24.0->yfinance) (1.15.0)\n",
            "Requirement already satisfied: idna<4,>=2.5 in /usr/local/lib/python3.7/dist-packages (from requests>=2.26->yfinance) (2.10)\n",
            "Requirement already satisfied: urllib3<1.27,>=1.21.1 in /usr/local/lib/python3.7/dist-packages (from requests>=2.26->yfinance) (1.24.3)\n",
            "Requirement already satisfied: charset-normalizer~=2.0.0 in /usr/local/lib/python3.7/dist-packages (from requests>=2.26->yfinance) (2.0.12)\n",
            "Requirement already satisfied: certifi>=2017.4.17 in /usr/local/lib/python3.7/dist-packages (from requests>=2.26->yfinance) (2021.10.8)\n",
            "Installing collected packages: requests, lxml, yfinance\n",
            "  Attempting uninstall: requests\n",
            "    Found existing installation: requests 2.23.0\n",
            "    Uninstalling requests-2.23.0:\n",
            "      Successfully uninstalled requests-2.23.0\n",
            "  Attempting uninstall: lxml\n",
            "    Found existing installation: lxml 4.2.6\n",
            "    Uninstalling lxml-4.2.6:\n",
            "      Successfully uninstalled lxml-4.2.6\n",
            "\u001b[31mERROR: pip's dependency resolver does not currently take into account all the packages that are installed. This behaviour is the source of the following dependency conflicts.\n",
            "google-colab 1.0.0 requires requests~=2.23.0, but you have requests 2.27.1 which is incompatible.\n",
            "datascience 0.10.6 requires folium==0.2.1, but you have folium 0.8.3 which is incompatible.\u001b[0m\n",
            "Successfully installed lxml-4.8.0 requests-2.27.1 yfinance-0.1.70\n"
          ]
        }
      ]
    },
    {
      "cell_type": "code",
      "metadata": {
        "colab": {
          "base_uri": "https://localhost:8080/"
        },
        "id": "2zeoin_23R3j",
        "outputId": "d001dc0a-24f2-4038-e214-26cec6fe84f8"
      },
      "source": [
        "import yfinance as yf\n",
        "data = yf.download(\"MSFT\", start=\"2013-01-01\", end=\"2020-03-16\")"
      ],
      "execution_count": null,
      "outputs": [
        {
          "output_type": "stream",
          "name": "stdout",
          "text": [
            "\r[*********************100%***********************]  1 of 1 completed\n"
          ]
        }
      ]
    },
    {
      "cell_type": "code",
      "source": [
        "import yfinance as yf\n",
        "data = yf.download(\"MSFT\", start=\"2013-01-01\", end=\"2020-03-16\")"
      ],
      "metadata": {
        "id": "PPtn3oUoq5kH"
      },
      "execution_count": null,
      "outputs": []
    },
    {
      "cell_type": "code",
      "source": [
        "import yfinance as yf\n",
        "data2 = yf.download(\"BTC-USD\", start=\"2020-03-01\", end=\"2020-03-16\")"
      ],
      "metadata": {
        "colab": {
          "base_uri": "https://localhost:8080/"
        },
        "id": "fhaCy-fRrFpp",
        "outputId": "b642fb3d-9921-41ef-fddd-46a60ee7637d"
      },
      "execution_count": null,
      "outputs": [
        {
          "output_type": "stream",
          "name": "stdout",
          "text": [
            "\r[*********************100%***********************]  1 of 1 completed\n"
          ]
        }
      ]
    },
    {
      "cell_type": "code",
      "source": [
        ""
      ],
      "metadata": {
        "id": "kVYFhU7jsGOm"
      },
      "execution_count": null,
      "outputs": []
    },
    {
      "cell_type": "code",
      "metadata": {
        "colab": {
          "base_uri": "https://localhost:8080/",
          "height": 582
        },
        "id": "5U2eHtGxciXA",
        "outputId": "4c66357e-90eb-4da8-c16f-a3cac8b7eec1"
      },
      "source": [
        "data2"
      ],
      "execution_count": null,
      "outputs": [
        {
          "output_type": "execute_result",
          "data": {
            "text/plain": [
              "                   Open         High          Low        Close    Adj Close  \\\n",
              "Date                                                                          \n",
              "2020-03-01  8599.758789  8726.796875  8471.212891  8562.454102  8562.454102   \n",
              "2020-03-02  8563.264648  8921.308594  8532.630859  8869.669922  8869.669922   \n",
              "2020-03-03  8865.387695  8901.598633  8704.990234  8787.786133  8787.786133   \n",
              "2020-03-04  8788.541992  8843.366211  8712.431641  8755.246094  8755.246094   \n",
              "2020-03-05  8760.285156  9142.054688  8757.253906  9078.762695  9078.762695   \n",
              "2020-03-06  9078.308594  9167.695312  9032.079102  9122.545898  9122.545898   \n",
              "2020-03-07  9121.600586  9163.220703  8890.744141  8909.954102  8909.954102   \n",
              "2020-03-08  8908.206055  8914.343750  8105.252930  8108.116211  8108.116211   \n",
              "2020-03-09  8111.146484  8177.793457  7690.098145  7923.644531  7923.644531   \n",
              "2020-03-10  7922.146973  8136.945312  7814.763184  7909.729492  7909.729492   \n",
              "2020-03-11  7910.089844  7950.814453  7642.812500  7911.430176  7911.430176   \n",
              "2020-03-12  7913.616211  7929.116211  4860.354004  4970.788086  4970.788086   \n",
              "2020-03-13  5017.831055  5838.114746  4106.980957  5563.707031  5563.707031   \n",
              "2020-03-14  5573.077637  5625.226562  5125.069336  5200.366211  5200.366211   \n",
              "2020-03-15  5201.066895  5836.645020  5169.283203  5392.314941  5392.314941   \n",
              "2020-03-16  5385.229492  5385.229492  4575.357910  5014.479980  5014.479980   \n",
              "\n",
              "                 Volume  \n",
              "Date                     \n",
              "2020-03-01  35349164300  \n",
              "2020-03-02  42857674409  \n",
              "2020-03-03  42386715821  \n",
              "2020-03-04  34746706368  \n",
              "2020-03-05  39698054597  \n",
              "2020-03-06  40826885651  \n",
              "2020-03-07  36216930370  \n",
              "2020-03-08  39973102121  \n",
              "2020-03-09  46936995808  \n",
              "2020-03-10  42213940994  \n",
              "2020-03-11  38682762605  \n",
              "2020-03-12  53980357243  \n",
              "2020-03-13  74156772075  \n",
              "2020-03-14  36154506008  \n",
              "2020-03-15  33997889639  \n",
              "2020-03-16  45368026430  "
            ],
            "text/html": [
              "\n",
              "  <div id=\"df-2348232a-6d08-4782-9983-a3e211230371\">\n",
              "    <div class=\"colab-df-container\">\n",
              "      <div>\n",
              "<style scoped>\n",
              "    .dataframe tbody tr th:only-of-type {\n",
              "        vertical-align: middle;\n",
              "    }\n",
              "\n",
              "    .dataframe tbody tr th {\n",
              "        vertical-align: top;\n",
              "    }\n",
              "\n",
              "    .dataframe thead th {\n",
              "        text-align: right;\n",
              "    }\n",
              "</style>\n",
              "<table border=\"1\" class=\"dataframe\">\n",
              "  <thead>\n",
              "    <tr style=\"text-align: right;\">\n",
              "      <th></th>\n",
              "      <th>Open</th>\n",
              "      <th>High</th>\n",
              "      <th>Low</th>\n",
              "      <th>Close</th>\n",
              "      <th>Adj Close</th>\n",
              "      <th>Volume</th>\n",
              "    </tr>\n",
              "    <tr>\n",
              "      <th>Date</th>\n",
              "      <th></th>\n",
              "      <th></th>\n",
              "      <th></th>\n",
              "      <th></th>\n",
              "      <th></th>\n",
              "      <th></th>\n",
              "    </tr>\n",
              "  </thead>\n",
              "  <tbody>\n",
              "    <tr>\n",
              "      <th>2020-03-01</th>\n",
              "      <td>8599.758789</td>\n",
              "      <td>8726.796875</td>\n",
              "      <td>8471.212891</td>\n",
              "      <td>8562.454102</td>\n",
              "      <td>8562.454102</td>\n",
              "      <td>35349164300</td>\n",
              "    </tr>\n",
              "    <tr>\n",
              "      <th>2020-03-02</th>\n",
              "      <td>8563.264648</td>\n",
              "      <td>8921.308594</td>\n",
              "      <td>8532.630859</td>\n",
              "      <td>8869.669922</td>\n",
              "      <td>8869.669922</td>\n",
              "      <td>42857674409</td>\n",
              "    </tr>\n",
              "    <tr>\n",
              "      <th>2020-03-03</th>\n",
              "      <td>8865.387695</td>\n",
              "      <td>8901.598633</td>\n",
              "      <td>8704.990234</td>\n",
              "      <td>8787.786133</td>\n",
              "      <td>8787.786133</td>\n",
              "      <td>42386715821</td>\n",
              "    </tr>\n",
              "    <tr>\n",
              "      <th>2020-03-04</th>\n",
              "      <td>8788.541992</td>\n",
              "      <td>8843.366211</td>\n",
              "      <td>8712.431641</td>\n",
              "      <td>8755.246094</td>\n",
              "      <td>8755.246094</td>\n",
              "      <td>34746706368</td>\n",
              "    </tr>\n",
              "    <tr>\n",
              "      <th>2020-03-05</th>\n",
              "      <td>8760.285156</td>\n",
              "      <td>9142.054688</td>\n",
              "      <td>8757.253906</td>\n",
              "      <td>9078.762695</td>\n",
              "      <td>9078.762695</td>\n",
              "      <td>39698054597</td>\n",
              "    </tr>\n",
              "    <tr>\n",
              "      <th>2020-03-06</th>\n",
              "      <td>9078.308594</td>\n",
              "      <td>9167.695312</td>\n",
              "      <td>9032.079102</td>\n",
              "      <td>9122.545898</td>\n",
              "      <td>9122.545898</td>\n",
              "      <td>40826885651</td>\n",
              "    </tr>\n",
              "    <tr>\n",
              "      <th>2020-03-07</th>\n",
              "      <td>9121.600586</td>\n",
              "      <td>9163.220703</td>\n",
              "      <td>8890.744141</td>\n",
              "      <td>8909.954102</td>\n",
              "      <td>8909.954102</td>\n",
              "      <td>36216930370</td>\n",
              "    </tr>\n",
              "    <tr>\n",
              "      <th>2020-03-08</th>\n",
              "      <td>8908.206055</td>\n",
              "      <td>8914.343750</td>\n",
              "      <td>8105.252930</td>\n",
              "      <td>8108.116211</td>\n",
              "      <td>8108.116211</td>\n",
              "      <td>39973102121</td>\n",
              "    </tr>\n",
              "    <tr>\n",
              "      <th>2020-03-09</th>\n",
              "      <td>8111.146484</td>\n",
              "      <td>8177.793457</td>\n",
              "      <td>7690.098145</td>\n",
              "      <td>7923.644531</td>\n",
              "      <td>7923.644531</td>\n",
              "      <td>46936995808</td>\n",
              "    </tr>\n",
              "    <tr>\n",
              "      <th>2020-03-10</th>\n",
              "      <td>7922.146973</td>\n",
              "      <td>8136.945312</td>\n",
              "      <td>7814.763184</td>\n",
              "      <td>7909.729492</td>\n",
              "      <td>7909.729492</td>\n",
              "      <td>42213940994</td>\n",
              "    </tr>\n",
              "    <tr>\n",
              "      <th>2020-03-11</th>\n",
              "      <td>7910.089844</td>\n",
              "      <td>7950.814453</td>\n",
              "      <td>7642.812500</td>\n",
              "      <td>7911.430176</td>\n",
              "      <td>7911.430176</td>\n",
              "      <td>38682762605</td>\n",
              "    </tr>\n",
              "    <tr>\n",
              "      <th>2020-03-12</th>\n",
              "      <td>7913.616211</td>\n",
              "      <td>7929.116211</td>\n",
              "      <td>4860.354004</td>\n",
              "      <td>4970.788086</td>\n",
              "      <td>4970.788086</td>\n",
              "      <td>53980357243</td>\n",
              "    </tr>\n",
              "    <tr>\n",
              "      <th>2020-03-13</th>\n",
              "      <td>5017.831055</td>\n",
              "      <td>5838.114746</td>\n",
              "      <td>4106.980957</td>\n",
              "      <td>5563.707031</td>\n",
              "      <td>5563.707031</td>\n",
              "      <td>74156772075</td>\n",
              "    </tr>\n",
              "    <tr>\n",
              "      <th>2020-03-14</th>\n",
              "      <td>5573.077637</td>\n",
              "      <td>5625.226562</td>\n",
              "      <td>5125.069336</td>\n",
              "      <td>5200.366211</td>\n",
              "      <td>5200.366211</td>\n",
              "      <td>36154506008</td>\n",
              "    </tr>\n",
              "    <tr>\n",
              "      <th>2020-03-15</th>\n",
              "      <td>5201.066895</td>\n",
              "      <td>5836.645020</td>\n",
              "      <td>5169.283203</td>\n",
              "      <td>5392.314941</td>\n",
              "      <td>5392.314941</td>\n",
              "      <td>33997889639</td>\n",
              "    </tr>\n",
              "    <tr>\n",
              "      <th>2020-03-16</th>\n",
              "      <td>5385.229492</td>\n",
              "      <td>5385.229492</td>\n",
              "      <td>4575.357910</td>\n",
              "      <td>5014.479980</td>\n",
              "      <td>5014.479980</td>\n",
              "      <td>45368026430</td>\n",
              "    </tr>\n",
              "  </tbody>\n",
              "</table>\n",
              "</div>\n",
              "      <button class=\"colab-df-convert\" onclick=\"convertToInteractive('df-2348232a-6d08-4782-9983-a3e211230371')\"\n",
              "              title=\"Convert this dataframe to an interactive table.\"\n",
              "              style=\"display:none;\">\n",
              "        \n",
              "  <svg xmlns=\"http://www.w3.org/2000/svg\" height=\"24px\"viewBox=\"0 0 24 24\"\n",
              "       width=\"24px\">\n",
              "    <path d=\"M0 0h24v24H0V0z\" fill=\"none\"/>\n",
              "    <path d=\"M18.56 5.44l.94 2.06.94-2.06 2.06-.94-2.06-.94-.94-2.06-.94 2.06-2.06.94zm-11 1L8.5 8.5l.94-2.06 2.06-.94-2.06-.94L8.5 2.5l-.94 2.06-2.06.94zm10 10l.94 2.06.94-2.06 2.06-.94-2.06-.94-.94-2.06-.94 2.06-2.06.94z\"/><path d=\"M17.41 7.96l-1.37-1.37c-.4-.4-.92-.59-1.43-.59-.52 0-1.04.2-1.43.59L10.3 9.45l-7.72 7.72c-.78.78-.78 2.05 0 2.83L4 21.41c.39.39.9.59 1.41.59.51 0 1.02-.2 1.41-.59l7.78-7.78 2.81-2.81c.8-.78.8-2.07 0-2.86zM5.41 20L4 18.59l7.72-7.72 1.47 1.35L5.41 20z\"/>\n",
              "  </svg>\n",
              "      </button>\n",
              "      \n",
              "  <style>\n",
              "    .colab-df-container {\n",
              "      display:flex;\n",
              "      flex-wrap:wrap;\n",
              "      gap: 12px;\n",
              "    }\n",
              "\n",
              "    .colab-df-convert {\n",
              "      background-color: #E8F0FE;\n",
              "      border: none;\n",
              "      border-radius: 50%;\n",
              "      cursor: pointer;\n",
              "      display: none;\n",
              "      fill: #1967D2;\n",
              "      height: 32px;\n",
              "      padding: 0 0 0 0;\n",
              "      width: 32px;\n",
              "    }\n",
              "\n",
              "    .colab-df-convert:hover {\n",
              "      background-color: #E2EBFA;\n",
              "      box-shadow: 0px 1px 2px rgba(60, 64, 67, 0.3), 0px 1px 3px 1px rgba(60, 64, 67, 0.15);\n",
              "      fill: #174EA6;\n",
              "    }\n",
              "\n",
              "    [theme=dark] .colab-df-convert {\n",
              "      background-color: #3B4455;\n",
              "      fill: #D2E3FC;\n",
              "    }\n",
              "\n",
              "    [theme=dark] .colab-df-convert:hover {\n",
              "      background-color: #434B5C;\n",
              "      box-shadow: 0px 1px 3px 1px rgba(0, 0, 0, 0.15);\n",
              "      filter: drop-shadow(0px 1px 2px rgba(0, 0, 0, 0.3));\n",
              "      fill: #FFFFFF;\n",
              "    }\n",
              "  </style>\n",
              "\n",
              "      <script>\n",
              "        const buttonEl =\n",
              "          document.querySelector('#df-2348232a-6d08-4782-9983-a3e211230371 button.colab-df-convert');\n",
              "        buttonEl.style.display =\n",
              "          google.colab.kernel.accessAllowed ? 'block' : 'none';\n",
              "\n",
              "        async function convertToInteractive(key) {\n",
              "          const element = document.querySelector('#df-2348232a-6d08-4782-9983-a3e211230371');\n",
              "          const dataTable =\n",
              "            await google.colab.kernel.invokeFunction('convertToInteractive',\n",
              "                                                     [key], {});\n",
              "          if (!dataTable) return;\n",
              "\n",
              "          const docLinkHtml = 'Like what you see? Visit the ' +\n",
              "            '<a target=\"_blank\" href=https://colab.research.google.com/notebooks/data_table.ipynb>data table notebook</a>'\n",
              "            + ' to learn more about interactive tables.';\n",
              "          element.innerHTML = '';\n",
              "          dataTable['output_type'] = 'display_data';\n",
              "          await google.colab.output.renderOutput(dataTable, element);\n",
              "          const docLink = document.createElement('div');\n",
              "          docLink.innerHTML = docLinkHtml;\n",
              "          element.appendChild(docLink);\n",
              "        }\n",
              "      </script>\n",
              "    </div>\n",
              "  </div>\n",
              "  "
            ]
          },
          "metadata": {},
          "execution_count": 13
        }
      ]
    },
    {
      "cell_type": "code",
      "metadata": {
        "id": "xtnTOM3fZ9ZZ"
      },
      "source": [
        "#df=pd.read_csv(\"data/MSFT-1Y-Hourly.csv\")"
      ],
      "execution_count": null,
      "outputs": []
    },
    {
      "cell_type": "code",
      "metadata": {
        "colab": {
          "base_uri": "https://localhost:8080/",
          "height": 450
        },
        "id": "7elzrhYhcqTi",
        "outputId": "e9ce8b8c-bce3-46cb-b380-968d855661b8"
      },
      "source": [
        "df=pd.DataFrame(data)\n",
        "df"
      ],
      "execution_count": null,
      "outputs": [
        {
          "output_type": "execute_result",
          "data": {
            "text/html": [
              "<div>\n",
              "<style scoped>\n",
              "    .dataframe tbody tr th:only-of-type {\n",
              "        vertical-align: middle;\n",
              "    }\n",
              "\n",
              "    .dataframe tbody tr th {\n",
              "        vertical-align: top;\n",
              "    }\n",
              "\n",
              "    .dataframe thead th {\n",
              "        text-align: right;\n",
              "    }\n",
              "</style>\n",
              "<table border=\"1\" class=\"dataframe\">\n",
              "  <thead>\n",
              "    <tr style=\"text-align: right;\">\n",
              "      <th></th>\n",
              "      <th>Open</th>\n",
              "      <th>High</th>\n",
              "      <th>Low</th>\n",
              "      <th>Close</th>\n",
              "      <th>Adj Close</th>\n",
              "      <th>Volume</th>\n",
              "    </tr>\n",
              "    <tr>\n",
              "      <th>Date</th>\n",
              "      <th></th>\n",
              "      <th></th>\n",
              "      <th></th>\n",
              "      <th></th>\n",
              "      <th></th>\n",
              "      <th></th>\n",
              "    </tr>\n",
              "  </thead>\n",
              "  <tbody>\n",
              "    <tr>\n",
              "      <th>2013-01-02</th>\n",
              "      <td>27.250000</td>\n",
              "      <td>27.730000</td>\n",
              "      <td>27.150000</td>\n",
              "      <td>27.620001</td>\n",
              "      <td>23.030146</td>\n",
              "      <td>52899300</td>\n",
              "    </tr>\n",
              "    <tr>\n",
              "      <th>2013-01-03</th>\n",
              "      <td>27.629999</td>\n",
              "      <td>27.650000</td>\n",
              "      <td>27.160000</td>\n",
              "      <td>27.250000</td>\n",
              "      <td>22.721628</td>\n",
              "      <td>48294400</td>\n",
              "    </tr>\n",
              "    <tr>\n",
              "      <th>2013-01-04</th>\n",
              "      <td>27.270000</td>\n",
              "      <td>27.340000</td>\n",
              "      <td>26.730000</td>\n",
              "      <td>26.740000</td>\n",
              "      <td>22.296381</td>\n",
              "      <td>52521100</td>\n",
              "    </tr>\n",
              "    <tr>\n",
              "      <th>2013-01-07</th>\n",
              "      <td>26.770000</td>\n",
              "      <td>26.879999</td>\n",
              "      <td>26.639999</td>\n",
              "      <td>26.690001</td>\n",
              "      <td>22.254688</td>\n",
              "      <td>37110400</td>\n",
              "    </tr>\n",
              "    <tr>\n",
              "      <th>2013-01-08</th>\n",
              "      <td>26.750000</td>\n",
              "      <td>26.790001</td>\n",
              "      <td>26.459999</td>\n",
              "      <td>26.549999</td>\n",
              "      <td>22.137957</td>\n",
              "      <td>44703100</td>\n",
              "    </tr>\n",
              "    <tr>\n",
              "      <th>...</th>\n",
              "      <td>...</td>\n",
              "      <td>...</td>\n",
              "      <td>...</td>\n",
              "      <td>...</td>\n",
              "      <td>...</td>\n",
              "      <td>...</td>\n",
              "    </tr>\n",
              "    <tr>\n",
              "      <th>2020-03-09</th>\n",
              "      <td>151.000000</td>\n",
              "      <td>157.750000</td>\n",
              "      <td>150.000000</td>\n",
              "      <td>150.619995</td>\n",
              "      <td>148.477051</td>\n",
              "      <td>70419300</td>\n",
              "    </tr>\n",
              "    <tr>\n",
              "      <th>2020-03-10</th>\n",
              "      <td>158.160004</td>\n",
              "      <td>161.029999</td>\n",
              "      <td>152.580002</td>\n",
              "      <td>160.919998</td>\n",
              "      <td>158.630508</td>\n",
              "      <td>65354400</td>\n",
              "    </tr>\n",
              "    <tr>\n",
              "      <th>2020-03-11</th>\n",
              "      <td>157.130005</td>\n",
              "      <td>157.699997</td>\n",
              "      <td>151.149994</td>\n",
              "      <td>153.630005</td>\n",
              "      <td>151.444214</td>\n",
              "      <td>56371600</td>\n",
              "    </tr>\n",
              "    <tr>\n",
              "      <th>2020-03-12</th>\n",
              "      <td>145.300003</td>\n",
              "      <td>153.470001</td>\n",
              "      <td>138.580002</td>\n",
              "      <td>139.059998</td>\n",
              "      <td>137.081512</td>\n",
              "      <td>93226400</td>\n",
              "    </tr>\n",
              "    <tr>\n",
              "      <th>2020-03-13</th>\n",
              "      <td>147.500000</td>\n",
              "      <td>161.910004</td>\n",
              "      <td>140.729996</td>\n",
              "      <td>158.830002</td>\n",
              "      <td>156.570221</td>\n",
              "      <td>92727400</td>\n",
              "    </tr>\n",
              "  </tbody>\n",
              "</table>\n",
              "<p>1812 rows × 6 columns</p>\n",
              "</div>"
            ],
            "text/plain": [
              "                  Open        High  ...   Adj Close    Volume\n",
              "Date                                ...                      \n",
              "2013-01-02   27.250000   27.730000  ...   23.030146  52899300\n",
              "2013-01-03   27.629999   27.650000  ...   22.721628  48294400\n",
              "2013-01-04   27.270000   27.340000  ...   22.296381  52521100\n",
              "2013-01-07   26.770000   26.879999  ...   22.254688  37110400\n",
              "2013-01-08   26.750000   26.790001  ...   22.137957  44703100\n",
              "...                ...         ...  ...         ...       ...\n",
              "2020-03-09  151.000000  157.750000  ...  148.477051  70419300\n",
              "2020-03-10  158.160004  161.029999  ...  158.630508  65354400\n",
              "2020-03-11  157.130005  157.699997  ...  151.444214  56371600\n",
              "2020-03-12  145.300003  153.470001  ...  137.081512  93226400\n",
              "2020-03-13  147.500000  161.910004  ...  156.570221  92727400\n",
              "\n",
              "[1812 rows x 6 columns]"
            ]
          },
          "metadata": {},
          "execution_count": 163
        }
      ]
    },
    {
      "cell_type": "code",
      "metadata": {
        "id": "KU6UVmcfaGCd",
        "colab": {
          "base_uri": "https://localhost:8080/"
        },
        "outputId": "bbfc17df-1898-44c3-f14f-aafcaca8d452"
      },
      "source": [
        "df.info()"
      ],
      "execution_count": null,
      "outputs": [
        {
          "output_type": "stream",
          "name": "stdout",
          "text": [
            "<class 'pandas.core.frame.DataFrame'>\n",
            "DatetimeIndex: 1812 entries, 2013-01-02 to 2020-03-13\n",
            "Data columns (total 6 columns):\n",
            " #   Column     Non-Null Count  Dtype  \n",
            "---  ------     --------------  -----  \n",
            " 0   Open       1812 non-null   float64\n",
            " 1   High       1812 non-null   float64\n",
            " 2   Low        1812 non-null   float64\n",
            " 3   Close      1812 non-null   float64\n",
            " 4   Adj Close  1812 non-null   float64\n",
            " 5   Volume     1812 non-null   int64  \n",
            "dtypes: float64(5), int64(1)\n",
            "memory usage: 99.1 KB\n"
          ]
        }
      ]
    },
    {
      "cell_type": "code",
      "metadata": {
        "id": "QhNoFPGYaKcS"
      },
      "source": [
        "#df.set_index(\"date\", drop=True, inplace=True )"
      ],
      "execution_count": null,
      "outputs": []
    },
    {
      "cell_type": "code",
      "metadata": {
        "id": "GSN_rdwvaLlb"
      },
      "source": [
        "df=df[[\"Close\"]]"
      ],
      "execution_count": null,
      "outputs": []
    },
    {
      "cell_type": "code",
      "metadata": {
        "colab": {
          "base_uri": "https://localhost:8080/",
          "height": 450
        },
        "id": "mXtBbjMldI7r",
        "outputId": "0939a1cb-ecac-432d-ce03-830931972715"
      },
      "source": [
        "df"
      ],
      "execution_count": null,
      "outputs": [
        {
          "output_type": "execute_result",
          "data": {
            "text/html": [
              "<div>\n",
              "<style scoped>\n",
              "    .dataframe tbody tr th:only-of-type {\n",
              "        vertical-align: middle;\n",
              "    }\n",
              "\n",
              "    .dataframe tbody tr th {\n",
              "        vertical-align: top;\n",
              "    }\n",
              "\n",
              "    .dataframe thead th {\n",
              "        text-align: right;\n",
              "    }\n",
              "</style>\n",
              "<table border=\"1\" class=\"dataframe\">\n",
              "  <thead>\n",
              "    <tr style=\"text-align: right;\">\n",
              "      <th></th>\n",
              "      <th>Close</th>\n",
              "    </tr>\n",
              "    <tr>\n",
              "      <th>Date</th>\n",
              "      <th></th>\n",
              "    </tr>\n",
              "  </thead>\n",
              "  <tbody>\n",
              "    <tr>\n",
              "      <th>2013-01-02</th>\n",
              "      <td>27.620001</td>\n",
              "    </tr>\n",
              "    <tr>\n",
              "      <th>2013-01-03</th>\n",
              "      <td>27.250000</td>\n",
              "    </tr>\n",
              "    <tr>\n",
              "      <th>2013-01-04</th>\n",
              "      <td>26.740000</td>\n",
              "    </tr>\n",
              "    <tr>\n",
              "      <th>2013-01-07</th>\n",
              "      <td>26.690001</td>\n",
              "    </tr>\n",
              "    <tr>\n",
              "      <th>2013-01-08</th>\n",
              "      <td>26.549999</td>\n",
              "    </tr>\n",
              "    <tr>\n",
              "      <th>...</th>\n",
              "      <td>...</td>\n",
              "    </tr>\n",
              "    <tr>\n",
              "      <th>2020-03-09</th>\n",
              "      <td>150.619995</td>\n",
              "    </tr>\n",
              "    <tr>\n",
              "      <th>2020-03-10</th>\n",
              "      <td>160.919998</td>\n",
              "    </tr>\n",
              "    <tr>\n",
              "      <th>2020-03-11</th>\n",
              "      <td>153.630005</td>\n",
              "    </tr>\n",
              "    <tr>\n",
              "      <th>2020-03-12</th>\n",
              "      <td>139.059998</td>\n",
              "    </tr>\n",
              "    <tr>\n",
              "      <th>2020-03-13</th>\n",
              "      <td>158.830002</td>\n",
              "    </tr>\n",
              "  </tbody>\n",
              "</table>\n",
              "<p>1812 rows × 1 columns</p>\n",
              "</div>"
            ],
            "text/plain": [
              "                 Close\n",
              "Date                  \n",
              "2013-01-02   27.620001\n",
              "2013-01-03   27.250000\n",
              "2013-01-04   26.740000\n",
              "2013-01-07   26.690001\n",
              "2013-01-08   26.549999\n",
              "...                ...\n",
              "2020-03-09  150.619995\n",
              "2020-03-10  160.919998\n",
              "2020-03-11  153.630005\n",
              "2020-03-12  139.059998\n",
              "2020-03-13  158.830002\n",
              "\n",
              "[1812 rows x 1 columns]"
            ]
          },
          "metadata": {},
          "execution_count": 167
        }
      ]
    },
    {
      "cell_type": "code",
      "metadata": {
        "id": "qq1aNHXZan3z"
      },
      "source": [
        "#type(df[\"close\"]) == type(df[[\"close\"]])"
      ],
      "execution_count": null,
      "outputs": []
    },
    {
      "cell_type": "code",
      "metadata": {
        "id": "6oczB8o4a0U0",
        "colab": {
          "base_uri": "https://localhost:8080/",
          "height": 297
        },
        "outputId": "49ccbb86-4f46-4e1a-ef51-c846fe4a8e12"
      },
      "source": [
        "df.describe()"
      ],
      "execution_count": null,
      "outputs": [
        {
          "output_type": "execute_result",
          "data": {
            "text/html": [
              "<div>\n",
              "<style scoped>\n",
              "    .dataframe tbody tr th:only-of-type {\n",
              "        vertical-align: middle;\n",
              "    }\n",
              "\n",
              "    .dataframe tbody tr th {\n",
              "        vertical-align: top;\n",
              "    }\n",
              "\n",
              "    .dataframe thead th {\n",
              "        text-align: right;\n",
              "    }\n",
              "</style>\n",
              "<table border=\"1\" class=\"dataframe\">\n",
              "  <thead>\n",
              "    <tr style=\"text-align: right;\">\n",
              "      <th></th>\n",
              "      <th>Close</th>\n",
              "    </tr>\n",
              "  </thead>\n",
              "  <tbody>\n",
              "    <tr>\n",
              "      <th>count</th>\n",
              "      <td>1812.000000</td>\n",
              "    </tr>\n",
              "    <tr>\n",
              "      <th>mean</th>\n",
              "      <td>71.360806</td>\n",
              "    </tr>\n",
              "    <tr>\n",
              "      <th>std</th>\n",
              "      <td>37.063001</td>\n",
              "    </tr>\n",
              "    <tr>\n",
              "      <th>min</th>\n",
              "      <td>26.459999</td>\n",
              "    </tr>\n",
              "    <tr>\n",
              "      <th>25%</th>\n",
              "      <td>43.290001</td>\n",
              "    </tr>\n",
              "    <tr>\n",
              "      <th>50%</th>\n",
              "      <td>56.785000</td>\n",
              "    </tr>\n",
              "    <tr>\n",
              "      <th>75%</th>\n",
              "      <td>97.935003</td>\n",
              "    </tr>\n",
              "    <tr>\n",
              "      <th>max</th>\n",
              "      <td>188.699997</td>\n",
              "    </tr>\n",
              "  </tbody>\n",
              "</table>\n",
              "</div>"
            ],
            "text/plain": [
              "             Close\n",
              "count  1812.000000\n",
              "mean     71.360806\n",
              "std      37.063001\n",
              "min      26.459999\n",
              "25%      43.290001\n",
              "50%      56.785000\n",
              "75%      97.935003\n",
              "max     188.699997"
            ]
          },
          "metadata": {},
          "execution_count": 169
        }
      ]
    },
    {
      "cell_type": "code",
      "metadata": {
        "id": "95QWJyJJa20B",
        "colab": {
          "base_uri": "https://localhost:8080/",
          "height": 374
        },
        "outputId": "5d9de642-c827-4bd7-d49e-0d46b14f8728"
      },
      "source": [
        "plt.figure(1, figsize=(16,6))\n",
        "_=plt.plot(df.Close)"
      ],
      "execution_count": null,
      "outputs": [
        {
          "output_type": "display_data",
          "data": {
            "image/png": "[encoded data removed]",
            "text/plain": [
              "<Figure size 1152x432 with 1 Axes>"
            ]
          },
          "metadata": {
            "needs_background": "light"
          }
        }
      ]
    },
    {
      "cell_type": "code",
      "metadata": {
        "id": "tba4WptfdRd7",
        "colab": {
          "base_uri": "https://localhost:8080/"
        },
        "outputId": "3e0225c9-c34b-4d50-a929-10384f040103"
      },
      "source": [
        "df[\"returns\"]=df.Close.pct_change()"
      ],
      "execution_count": null,
      "outputs": [
        {
          "output_type": "stream",
          "name": "stderr",
          "text": [
            "/usr/local/lib/python3.7/dist-packages/ipykernel_launcher.py:1: SettingWithCopyWarning: \n",
            "A value is trying to be set on a copy of a slice from a DataFrame.\n",
            "Try using .loc[row_indexer,col_indexer] = value instead\n",
            "\n",
            "See the caveats in the documentation: https://pandas.pydata.org/pandas-docs/stable/user_guide/indexing.html#returning-a-view-versus-a-copy\n",
            "  \"\"\"Entry point for launching an IPython kernel.\n"
          ]
        }
      ]
    },
    {
      "cell_type": "code",
      "metadata": {
        "id": "0uIskHjFdXR6",
        "colab": {
          "base_uri": "https://localhost:8080/",
          "height": 235
        },
        "outputId": "16bb0685-a0fb-4274-b873-116a160ebc26"
      },
      "source": [
        "df.head(5)"
      ],
      "execution_count": null,
      "outputs": [
        {
          "output_type": "execute_result",
          "data": {
            "text/html": [
              "<div>\n",
              "<style scoped>\n",
              "    .dataframe tbody tr th:only-of-type {\n",
              "        vertical-align: middle;\n",
              "    }\n",
              "\n",
              "    .dataframe tbody tr th {\n",
              "        vertical-align: top;\n",
              "    }\n",
              "\n",
              "    .dataframe thead th {\n",
              "        text-align: right;\n",
              "    }\n",
              "</style>\n",
              "<table border=\"1\" class=\"dataframe\">\n",
              "  <thead>\n",
              "    <tr style=\"text-align: right;\">\n",
              "      <th></th>\n",
              "      <th>Close</th>\n",
              "      <th>returns</th>\n",
              "    </tr>\n",
              "    <tr>\n",
              "      <th>Date</th>\n",
              "      <th></th>\n",
              "      <th></th>\n",
              "    </tr>\n",
              "  </thead>\n",
              "  <tbody>\n",
              "    <tr>\n",
              "      <th>2013-01-02</th>\n",
              "      <td>27.620001</td>\n",
              "      <td>NaN</td>\n",
              "    </tr>\n",
              "    <tr>\n",
              "      <th>2013-01-03</th>\n",
              "      <td>27.250000</td>\n",
              "      <td>-0.013396</td>\n",
              "    </tr>\n",
              "    <tr>\n",
              "      <th>2013-01-04</th>\n",
              "      <td>26.740000</td>\n",
              "      <td>-0.018716</td>\n",
              "    </tr>\n",
              "    <tr>\n",
              "      <th>2013-01-07</th>\n",
              "      <td>26.690001</td>\n",
              "      <td>-0.001870</td>\n",
              "    </tr>\n",
              "    <tr>\n",
              "      <th>2013-01-08</th>\n",
              "      <td>26.549999</td>\n",
              "      <td>-0.005245</td>\n",
              "    </tr>\n",
              "  </tbody>\n",
              "</table>\n",
              "</div>"
            ],
            "text/plain": [
              "                Close   returns\n",
              "Date                           \n",
              "2013-01-02  27.620001       NaN\n",
              "2013-01-03  27.250000 -0.013396\n",
              "2013-01-04  26.740000 -0.018716\n",
              "2013-01-07  26.690001 -0.001870\n",
              "2013-01-08  26.549999 -0.005245"
            ]
          },
          "metadata": {},
          "execution_count": 172
        }
      ]
    },
    {
      "cell_type": "code",
      "metadata": {
        "id": "95jOF2GCdZVi",
        "colab": {
          "base_uri": "https://localhost:8080/"
        },
        "outputId": "54ffa3c5-a6bc-474d-e281-dfc00b914995"
      },
      "source": [
        "1347.75/132.89-1\n"
      ],
      "execution_count": null,
      "outputs": [
        {
          "output_type": "execute_result",
          "data": {
            "text/plain": [
              "9.141846640078262"
            ]
          },
          "metadata": {},
          "execution_count": 173
        }
      ]
    },
    {
      "cell_type": "code",
      "metadata": {
        "id": "EcbuFmOsddPv",
        "colab": {
          "base_uri": "https://localhost:8080/"
        },
        "outputId": "68758285-76c2-4015-b551-6da425d4fe4d"
      },
      "source": [
        "df[\"log_returns\"]=np.log(1+df[\"returns\"])"
      ],
      "execution_count": null,
      "outputs": [
        {
          "output_type": "stream",
          "name": "stderr",
          "text": [
            "/usr/local/lib/python3.7/dist-packages/ipykernel_launcher.py:1: SettingWithCopyWarning: \n",
            "A value is trying to be set on a copy of a slice from a DataFrame.\n",
            "Try using .loc[row_indexer,col_indexer] = value instead\n",
            "\n",
            "See the caveats in the documentation: https://pandas.pydata.org/pandas-docs/stable/user_guide/indexing.html#returning-a-view-versus-a-copy\n",
            "  \"\"\"Entry point for launching an IPython kernel.\n"
          ]
        }
      ]
    },
    {
      "cell_type": "code",
      "metadata": {
        "id": "p_l82mTrdviZ",
        "colab": {
          "base_uri": "https://localhost:8080/",
          "height": 235
        },
        "outputId": "3e0c5124-da66-40d7-dc79-864e1c8659ae"
      },
      "source": [
        "df.head(5)"
      ],
      "execution_count": null,
      "outputs": [
        {
          "output_type": "execute_result",
          "data": {
            "text/html": [
              "<div>\n",
              "<style scoped>\n",
              "    .dataframe tbody tr th:only-of-type {\n",
              "        vertical-align: middle;\n",
              "    }\n",
              "\n",
              "    .dataframe tbody tr th {\n",
              "        vertical-align: top;\n",
              "    }\n",
              "\n",
              "    .dataframe thead th {\n",
              "        text-align: right;\n",
              "    }\n",
              "</style>\n",
              "<table border=\"1\" class=\"dataframe\">\n",
              "  <thead>\n",
              "    <tr style=\"text-align: right;\">\n",
              "      <th></th>\n",
              "      <th>Close</th>\n",
              "      <th>returns</th>\n",
              "      <th>log_returns</th>\n",
              "    </tr>\n",
              "    <tr>\n",
              "      <th>Date</th>\n",
              "      <th></th>\n",
              "      <th></th>\n",
              "      <th></th>\n",
              "    </tr>\n",
              "  </thead>\n",
              "  <tbody>\n",
              "    <tr>\n",
              "      <th>2013-01-02</th>\n",
              "      <td>27.620001</td>\n",
              "      <td>NaN</td>\n",
              "      <td>NaN</td>\n",
              "    </tr>\n",
              "    <tr>\n",
              "      <th>2013-01-03</th>\n",
              "      <td>27.250000</td>\n",
              "      <td>-0.013396</td>\n",
              "      <td>-0.013487</td>\n",
              "    </tr>\n",
              "    <tr>\n",
              "      <th>2013-01-04</th>\n",
              "      <td>26.740000</td>\n",
              "      <td>-0.018716</td>\n",
              "      <td>-0.018893</td>\n",
              "    </tr>\n",
              "    <tr>\n",
              "      <th>2013-01-07</th>\n",
              "      <td>26.690001</td>\n",
              "      <td>-0.001870</td>\n",
              "      <td>-0.001872</td>\n",
              "    </tr>\n",
              "    <tr>\n",
              "      <th>2013-01-08</th>\n",
              "      <td>26.549999</td>\n",
              "      <td>-0.005245</td>\n",
              "      <td>-0.005259</td>\n",
              "    </tr>\n",
              "  </tbody>\n",
              "</table>\n",
              "</div>"
            ],
            "text/plain": [
              "                Close   returns  log_returns\n",
              "Date                                        \n",
              "2013-01-02  27.620001       NaN          NaN\n",
              "2013-01-03  27.250000 -0.013396    -0.013487\n",
              "2013-01-04  26.740000 -0.018716    -0.018893\n",
              "2013-01-07  26.690001 -0.001870    -0.001872\n",
              "2013-01-08  26.549999 -0.005245    -0.005259"
            ]
          },
          "metadata": {},
          "execution_count": 175
        }
      ]
    },
    {
      "cell_type": "code",
      "metadata": {
        "id": "4B-3RBQMdxpK",
        "colab": {
          "base_uri": "https://localhost:8080/",
          "height": 282
        },
        "outputId": "e5b5b161-7084-44b1-d795-b53d6add3a6d"
      },
      "source": [
        "plt.figure(1, figsize=(16,4))\n",
        "plt.plot(df.log_returns)"
      ],
      "execution_count": null,
      "outputs": [
        {
          "output_type": "execute_result",
          "data": {
            "text/plain": [
              "[<matplotlib.lines.Line2D at 0x7f06dc4b2a10>]"
            ]
          },
          "metadata": {},
          "execution_count": 176
        },
        {
          "output_type": "display_data",
          "data": {
            "image/png": "[encoded data removed]",
            "text/plain": [
              "<Figure size 1152x288 with 1 Axes>"
            ]
          },
          "metadata": {
            "needs_background": "light"
          }
        }
      ]
    },
    {
      "cell_type": "code",
      "metadata": {
        "id": "61oJ4a2Tkd13",
        "colab": {
          "base_uri": "https://localhost:8080/"
        },
        "outputId": "40f44c4c-d267-4c3d-baf2-68a4fdf78399"
      },
      "source": [
        "df.dropna(inplace=True)\n",
        "X=df[[\"Close\", \"log_returns\"]].values"
      ],
      "execution_count": null,
      "outputs": [
        {
          "output_type": "stream",
          "name": "stderr",
          "text": [
            "/usr/local/lib/python3.7/dist-packages/ipykernel_launcher.py:1: SettingWithCopyWarning: \n",
            "A value is trying to be set on a copy of a slice from a DataFrame\n",
            "\n",
            "See the caveats in the documentation: https://pandas.pydata.org/pandas-docs/stable/user_guide/indexing.html#returning-a-view-versus-a-copy\n",
            "  \"\"\"Entry point for launching an IPython kernel.\n"
          ]
        }
      ]
    },
    {
      "cell_type": "code",
      "metadata": {
        "id": "aEHA71jqkpza",
        "colab": {
          "base_uri": "https://localhost:8080/"
        },
        "outputId": "ed6c455e-28eb-4a7d-bba3-e12429940cb9"
      },
      "source": [
        "X"
      ],
      "execution_count": null,
      "outputs": [
        {
          "output_type": "execute_result",
          "data": {
            "text/plain": [
              "array([[ 2.72500000e+01, -1.34866573e-02],\n",
              "       [ 2.67399998e+01, -1.88929580e-02],\n",
              "       [ 2.66900005e+01, -1.87157969e-03],\n",
              "       ...,\n",
              "       [ 1.53630005e+02, -4.63601898e-02],\n",
              "       [ 1.39059998e+02, -9.96416688e-02],\n",
              "       [ 1.58830002e+02,  1.32928982e-01]])"
            ]
          },
          "metadata": {},
          "execution_count": 178
        }
      ]
    },
    {
      "cell_type": "code",
      "metadata": {
        "id": "t0PxMHfKkqlA"
      },
      "source": [
        "from sklearn.preprocessing import MinMaxScaler"
      ],
      "execution_count": null,
      "outputs": []
    },
    {
      "cell_type": "code",
      "metadata": {
        "id": "c8Y_PoK5m0QA"
      },
      "source": [
        "scaler = MinMaxScaler(feature_range=(0,1)).fit(X)\n",
        "X_scaled = scaler.transform(X)"
      ],
      "execution_count": null,
      "outputs": []
    },
    {
      "cell_type": "code",
      "metadata": {
        "id": "0Qzr3wo_nCgJ",
        "colab": {
          "base_uri": "https://localhost:8080/"
        },
        "outputId": "3bcb8f8d-8280-4576-b60b-1a4b59e75802"
      },
      "source": [
        "X_scaled[:5]"
      ],
      "execution_count": null,
      "outputs": [
        {
          "output_type": "execute_result",
          "data": {
            "text/plain": [
              "array([[0.00486934, 0.42347465],\n",
              "       [0.00172584, 0.40218683],\n",
              "       [0.00141766, 0.46921011],\n",
              "       [0.00055473, 0.45587078],\n",
              "       [0.0014793 , 0.49876354]])"
            ]
          },
          "metadata": {},
          "execution_count": 181
        }
      ]
    },
    {
      "cell_type": "code",
      "metadata": {
        "id": "Z4DbXgfsksQR"
      },
      "source": [
        "Y=[x[0] for x in X_scaled]"
      ],
      "execution_count": null,
      "outputs": []
    },
    {
      "cell_type": "code",
      "metadata": {
        "id": "qGxxs3IZnGyi",
        "colab": {
          "base_uri": "https://localhost:8080/"
        },
        "outputId": "8a5ac90f-dd61-42c3-fe32-f428ae486983"
      },
      "source": [
        "Y[:5]"
      ],
      "execution_count": null,
      "outputs": [
        {
          "output_type": "execute_result",
          "data": {
            "text/plain": [
              "[0.004869335095718491,\n",
              " 0.0017258425193066307,\n",
              " 0.0014176618134456032,\n",
              " 0.000554734675622115,\n",
              " 0.0014793003058858611]"
            ]
          },
          "metadata": {},
          "execution_count": 183
        }
      ]
    },
    {
      "cell_type": "code",
      "metadata": {
        "id": "KtRsZHYJnJcz",
        "colab": {
          "base_uri": "https://localhost:8080/"
        },
        "outputId": "833ac883-90ad-4317-e763-32e86d790919"
      },
      "source": [
        "split=int(len(X_scaled)*0.8)\n",
        "print(split)"
      ],
      "execution_count": null,
      "outputs": [
        {
          "output_type": "stream",
          "name": "stdout",
          "text": [
            "1448\n"
          ]
        }
      ]
    },
    {
      "cell_type": "code",
      "metadata": {
        "id": "GkVlY2Fcng7q"
      },
      "source": [
        "X_train=X_scaled[:split]\n",
        "X_test=X_scaled[split:len(X_scaled)]\n",
        "y_train=Y[:split]\n",
        "y_test=Y[split:len(Y)]"
      ],
      "execution_count": null,
      "outputs": []
    },
    {
      "cell_type": "code",
      "metadata": {
        "id": "_KkI3eACn6sy"
      },
      "source": [
        "assert len(X_train) ==len(y_train)\n",
        "assert len(X_test) == len(y_test)"
      ],
      "execution_count": null,
      "outputs": []
    },
    {
      "cell_type": "code",
      "metadata": {
        "id": "StrTx2pgoHTJ"
      },
      "source": [
        "n=3\n",
        "Xtrain=[]\n",
        "ytrain=[]\n",
        "Xtest=[]\n",
        "ytest=[]\n",
        "\n",
        "for i in range(n, len(X_train)):\n",
        "    Xtrain.append(X_train[i-n:i, :X_train.shape[1]])\n",
        "    ytrain.append(y_train[i])  # predict next record\n",
        "\n",
        "for i in range(n, len(X_test)):\n",
        "    Xtest.append(X_test[i-n:i, :X_test.shape[1]])\n",
        "    ytest.append(y_test[i])  # predict next record\n",
        "\n"
      ],
      "execution_count": null,
      "outputs": []
    },
    {
      "cell_type": "code",
      "metadata": {
        "id": "HlRpNyhesN7r",
        "colab": {
          "base_uri": "https://localhost:8080/",
          "height": 235
        },
        "outputId": "e9a4255b-9262-4111-c8f9-ec9cf7c6e738"
      },
      "source": [
        "df.head(5)"
      ],
      "execution_count": null,
      "outputs": [
        {
          "output_type": "execute_result",
          "data": {
            "text/html": [
              "<div>\n",
              "<style scoped>\n",
              "    .dataframe tbody tr th:only-of-type {\n",
              "        vertical-align: middle;\n",
              "    }\n",
              "\n",
              "    .dataframe tbody tr th {\n",
              "        vertical-align: top;\n",
              "    }\n",
              "\n",
              "    .dataframe thead th {\n",
              "        text-align: right;\n",
              "    }\n",
              "</style>\n",
              "<table border=\"1\" class=\"dataframe\">\n",
              "  <thead>\n",
              "    <tr style=\"text-align: right;\">\n",
              "      <th></th>\n",
              "      <th>Close</th>\n",
              "      <th>returns</th>\n",
              "      <th>log_returns</th>\n",
              "    </tr>\n",
              "    <tr>\n",
              "      <th>Date</th>\n",
              "      <th></th>\n",
              "      <th></th>\n",
              "      <th></th>\n",
              "    </tr>\n",
              "  </thead>\n",
              "  <tbody>\n",
              "    <tr>\n",
              "      <th>2013-01-03</th>\n",
              "      <td>27.250000</td>\n",
              "      <td>-0.013396</td>\n",
              "      <td>-0.013487</td>\n",
              "    </tr>\n",
              "    <tr>\n",
              "      <th>2013-01-04</th>\n",
              "      <td>26.740000</td>\n",
              "      <td>-0.018716</td>\n",
              "      <td>-0.018893</td>\n",
              "    </tr>\n",
              "    <tr>\n",
              "      <th>2013-01-07</th>\n",
              "      <td>26.690001</td>\n",
              "      <td>-0.001870</td>\n",
              "      <td>-0.001872</td>\n",
              "    </tr>\n",
              "    <tr>\n",
              "      <th>2013-01-08</th>\n",
              "      <td>26.549999</td>\n",
              "      <td>-0.005245</td>\n",
              "      <td>-0.005259</td>\n",
              "    </tr>\n",
              "    <tr>\n",
              "      <th>2013-01-09</th>\n",
              "      <td>26.700001</td>\n",
              "      <td>0.005650</td>\n",
              "      <td>0.005634</td>\n",
              "    </tr>\n",
              "  </tbody>\n",
              "</table>\n",
              "</div>"
            ],
            "text/plain": [
              "                Close   returns  log_returns\n",
              "Date                                        \n",
              "2013-01-03  27.250000 -0.013396    -0.013487\n",
              "2013-01-04  26.740000 -0.018716    -0.018893\n",
              "2013-01-07  26.690001 -0.001870    -0.001872\n",
              "2013-01-08  26.549999 -0.005245    -0.005259\n",
              "2013-01-09  26.700001  0.005650     0.005634"
            ]
          },
          "metadata": {},
          "execution_count": 188
        }
      ]
    },
    {
      "cell_type": "code",
      "metadata": {
        "id": "qkXw1Kk2sQt1",
        "colab": {
          "base_uri": "https://localhost:8080/"
        },
        "outputId": "d66710a3-5dc6-41d2-fa8f-5d8e985aed40"
      },
      "source": [
        "Xtrain[0]\n"
      ],
      "execution_count": null,
      "outputs": [
        {
          "output_type": "execute_result",
          "data": {
            "text/plain": [
              "array([[0.00486934, 0.42347465],\n",
              "       [0.00172584, 0.40218683],\n",
              "       [0.00141766, 0.46921011]])"
            ]
          },
          "metadata": {},
          "execution_count": 189
        }
      ]
    },
    {
      "cell_type": "code",
      "metadata": {
        "id": "jVSKfiILsV_W",
        "colab": {
          "base_uri": "https://localhost:8080/"
        },
        "outputId": "f395a0d2-5f7f-4899-c7dc-12f7b1fb6ec3"
      },
      "source": [
        "ytrain[0]"
      ],
      "execution_count": null,
      "outputs": [
        {
          "output_type": "execute_result",
          "data": {
            "text/plain": [
              "0.000554734675622115"
            ]
          },
          "metadata": {},
          "execution_count": 190
        }
      ]
    },
    {
      "cell_type": "code",
      "metadata": {
        "id": "S_cZLaRwsjIb"
      },
      "source": [
        "val=np.array(ytrain)"
      ],
      "execution_count": null,
      "outputs": []
    },
    {
      "cell_type": "code",
      "metadata": {
        "id": "UplNAnKJsqWc"
      },
      "source": [
        "\n",
        "val=np.c_[val,np.zeros(val.shape)]"
      ],
      "execution_count": null,
      "outputs": []
    },
    {
      "cell_type": "code",
      "metadata": {
        "id": "Hoz7twb7tarX",
        "colab": {
          "base_uri": "https://localhost:8080/"
        },
        "outputId": "f24958e3-5242-4710-d98a-4e22e746d744"
      },
      "source": [
        "scaler.inverse_transform(val)"
      ],
      "execution_count": null,
      "outputs": [
        {
          "output_type": "execute_result",
          "data": {
            "text/plain": [
              "array([[ 26.54999924,  -0.12103321],\n",
              "       [ 26.70000076,  -0.12103321],\n",
              "       [ 26.45999908,  -0.12103321],\n",
              "       ...,\n",
              "       [114.37000275,  -0.12103321],\n",
              "       [115.61000061,  -0.12103321],\n",
              "       [115.15000153,  -0.12103321]])"
            ]
          },
          "metadata": {},
          "execution_count": 193
        }
      ]
    },
    {
      "cell_type": "code",
      "metadata": {
        "id": "EJTX6aJytkeb"
      },
      "source": [
        "Xtrain, ytrain= (np.array(Xtrain), np.array(ytrain))\n",
        "Xtrain=np.reshape(Xtrain, (Xtrain.shape[0], Xtrain.shape[1], Xtrain.shape[2]))\n",
        "\n",
        "Xtest, ytest=(np.array(Xtest), np.array(ytest))\n",
        "\n",
        "Xtest=np.reshape(Xtest, (Xtest.shape[0], Xtest.shape[1], Xtest.shape[2]))\n"
      ],
      "execution_count": null,
      "outputs": []
    },
    {
      "cell_type": "code",
      "metadata": {
        "id": "R3wnPwO2xjza",
        "colab": {
          "base_uri": "https://localhost:8080/"
        },
        "outputId": "9d1094ee-da8c-4e89-c000-53c1c4ab3b17"
      },
      "source": [
        "print(Xtrain.shape)\n",
        "print(ytrain.shape)\n",
        "print(\"-----\")\n",
        "print(Xtest.shape)\n",
        "print(ytest.shape)"
      ],
      "execution_count": null,
      "outputs": [
        {
          "output_type": "stream",
          "name": "stdout",
          "text": [
            "(1445, 3, 2)\n",
            "(1445,)\n",
            "-----\n",
            "(360, 3, 2)\n",
            "(360,)\n"
          ]
        }
      ]
    },
    {
      "cell_type": "code",
      "metadata": {
        "id": "EmSTTxYv1k5R"
      },
      "source": [
        "#LSTM MODEL"
      ],
      "execution_count": null,
      "outputs": []
    },
    {
      "cell_type": "code",
      "metadata": {
        "id": "I5gGDHZb1mYH"
      },
      "source": [
        "from keras.models import Sequential\n",
        "from keras.layers import LSTM, Dense"
      ],
      "execution_count": null,
      "outputs": []
    },
    {
      "cell_type": "code",
      "metadata": {
        "id": "QG9ULVik1t8P",
        "colab": {
          "base_uri": "https://localhost:8080/"
        },
        "outputId": "ffce2142-8d7a-48da-dc49-9f30b0772142"
      },
      "source": [
        "model=Sequential()\n",
        "model.add(LSTM(4, input_shape=(Xtrain.shape[1], Xtrain.shape[2])))\n",
        "model.add(Dense(1))\n",
        "model.compile(loss='mean_squared_error', optimizer=\"adam\")\n",
        "model.fit(\n",
        "    Xtrain, ytrain, epochs=100, validation_data=(Xtest, ytest), batch_size=16, verbose=1\n",
        ")"
      ],
      "execution_count": null,
      "outputs": [
        {
          "output_type": "stream",
          "name": "stdout",
          "text": [
            "Epoch 1/100\n",
            "91/91 [==============================] - 3s 8ms/step - loss: 0.0196 - val_loss: 0.1141\n",
            "Epoch 2/100\n",
            "91/91 [==============================] - 0s 4ms/step - loss: 0.0062 - val_loss: 0.0553\n",
            "Epoch 3/100\n",
            "91/91 [==============================] - 0s 3ms/step - loss: 0.0024 - val_loss: 0.0127\n",
            "Epoch 4/100\n",
            "91/91 [==============================] - 0s 4ms/step - loss: 4.5735e-04 - val_loss: 0.0012\n",
            "Epoch 5/100\n",
            "91/91 [==============================] - 0s 4ms/step - loss: 1.7170e-04 - val_loss: 6.7689e-04\n",
            "Epoch 6/100\n",
            "91/91 [==============================] - 0s 3ms/step - loss: 1.5776e-04 - val_loss: 6.2526e-04\n",
            "Epoch 7/100\n",
            "91/91 [==============================] - 0s 3ms/step - loss: 1.4907e-04 - val_loss: 6.4831e-04\n",
            "Epoch 8/100\n",
            "91/91 [==============================] - 0s 4ms/step - loss: 1.4180e-04 - val_loss: 7.0770e-04\n",
            "Epoch 9/100\n",
            "91/91 [==============================] - 0s 3ms/step - loss: 1.3495e-04 - val_loss: 7.7517e-04\n",
            "Epoch 10/100\n",
            "91/91 [==============================] - 0s 3ms/step - loss: 1.2691e-04 - val_loss: 6.8041e-04\n",
            "Epoch 11/100\n",
            "91/91 [==============================] - 0s 3ms/step - loss: 1.1904e-04 - val_loss: 7.6344e-04\n",
            "Epoch 12/100\n",
            "91/91 [==============================] - 0s 3ms/step - loss: 1.1298e-04 - val_loss: 8.0327e-04\n",
            "Epoch 13/100\n",
            "91/91 [==============================] - 0s 4ms/step - loss: 1.0493e-04 - val_loss: 8.7083e-04\n",
            "Epoch 14/100\n",
            "91/91 [==============================] - 0s 3ms/step - loss: 9.7097e-05 - val_loss: 9.8597e-04\n",
            "Epoch 15/100\n",
            "91/91 [==============================] - 0s 4ms/step - loss: 9.0296e-05 - val_loss: 0.0010\n",
            "Epoch 16/100\n",
            "91/91 [==============================] - 0s 3ms/step - loss: 8.3383e-05 - val_loss: 0.0011\n",
            "Epoch 17/100\n",
            "91/91 [==============================] - 0s 3ms/step - loss: 7.8716e-05 - val_loss: 0.0011\n",
            "Epoch 18/100\n",
            "91/91 [==============================] - 0s 3ms/step - loss: 7.1515e-05 - val_loss: 0.0011\n",
            "Epoch 19/100\n",
            "91/91 [==============================] - 0s 4ms/step - loss: 6.8238e-05 - val_loss: 0.0012\n",
            "Epoch 20/100\n",
            "91/91 [==============================] - 0s 3ms/step - loss: 6.1573e-05 - val_loss: 0.0011\n",
            "Epoch 21/100\n",
            "91/91 [==============================] - 0s 4ms/step - loss: 5.8177e-05 - val_loss: 0.0013\n",
            "Epoch 22/100\n",
            "91/91 [==============================] - 0s 3ms/step - loss: 5.3428e-05 - val_loss: 0.0012\n",
            "Epoch 23/100\n",
            "91/91 [==============================] - 0s 4ms/step - loss: 5.0823e-05 - val_loss: 0.0014\n",
            "Epoch 24/100\n",
            "91/91 [==============================] - 0s 4ms/step - loss: 4.7135e-05 - val_loss: 0.0013\n",
            "Epoch 25/100\n",
            "91/91 [==============================] - 0s 3ms/step - loss: 4.4534e-05 - val_loss: 0.0013\n",
            "Epoch 26/100\n",
            "91/91 [==============================] - 0s 4ms/step - loss: 4.2090e-05 - val_loss: 0.0015\n",
            "Epoch 27/100\n",
            "91/91 [==============================] - 0s 4ms/step - loss: 3.9620e-05 - val_loss: 0.0014\n",
            "Epoch 28/100\n",
            "91/91 [==============================] - 0s 3ms/step - loss: 3.8028e-05 - val_loss: 0.0014\n",
            "Epoch 29/100\n",
            "91/91 [==============================] - 0s 3ms/step - loss: 3.5225e-05 - val_loss: 0.0012\n",
            "Epoch 30/100\n",
            "91/91 [==============================] - 0s 4ms/step - loss: 3.5651e-05 - val_loss: 0.0015\n",
            "Epoch 31/100\n",
            "91/91 [==============================] - 0s 4ms/step - loss: 3.3623e-05 - val_loss: 0.0016\n",
            "Epoch 32/100\n",
            "91/91 [==============================] - 0s 4ms/step - loss: 3.2071e-05 - val_loss: 0.0013\n",
            "Epoch 33/100\n",
            "91/91 [==============================] - 0s 3ms/step - loss: 3.2857e-05 - val_loss: 0.0014\n",
            "Epoch 34/100\n",
            "91/91 [==============================] - 0s 4ms/step - loss: 3.2075e-05 - val_loss: 0.0018\n",
            "Epoch 35/100\n",
            "91/91 [==============================] - 0s 3ms/step - loss: 3.0627e-05 - val_loss: 0.0017\n",
            "Epoch 36/100\n",
            "91/91 [==============================] - 0s 3ms/step - loss: 3.0521e-05 - val_loss: 0.0018\n",
            "Epoch 37/100\n",
            "91/91 [==============================] - 0s 3ms/step - loss: 2.9815e-05 - val_loss: 0.0015\n",
            "Epoch 38/100\n",
            "91/91 [==============================] - 0s 3ms/step - loss: 3.1076e-05 - val_loss: 0.0016\n",
            "Epoch 39/100\n",
            "91/91 [==============================] - 0s 4ms/step - loss: 2.9946e-05 - val_loss: 0.0015\n",
            "Epoch 40/100\n",
            "91/91 [==============================] - 0s 4ms/step - loss: 3.0628e-05 - val_loss: 0.0018\n",
            "Epoch 41/100\n",
            "91/91 [==============================] - 0s 4ms/step - loss: 3.0880e-05 - val_loss: 0.0014\n",
            "Epoch 42/100\n",
            "91/91 [==============================] - 0s 3ms/step - loss: 2.9992e-05 - val_loss: 0.0015\n",
            "Epoch 43/100\n",
            "91/91 [==============================] - 0s 3ms/step - loss: 2.8871e-05 - val_loss: 0.0017\n",
            "Epoch 44/100\n",
            "91/91 [==============================] - 0s 3ms/step - loss: 2.9108e-05 - val_loss: 0.0016\n",
            "Epoch 45/100\n",
            "91/91 [==============================] - 0s 4ms/step - loss: 3.0629e-05 - val_loss: 0.0014\n",
            "Epoch 46/100\n",
            "91/91 [==============================] - 0s 3ms/step - loss: 2.9231e-05 - val_loss: 0.0017\n",
            "Epoch 47/100\n",
            "91/91 [==============================] - 0s 3ms/step - loss: 2.8662e-05 - val_loss: 0.0017\n",
            "Epoch 48/100\n",
            "91/91 [==============================] - 0s 3ms/step - loss: 2.9778e-05 - val_loss: 0.0015\n",
            "Epoch 49/100\n",
            "91/91 [==============================] - 0s 4ms/step - loss: 3.1202e-05 - val_loss: 0.0016\n",
            "Epoch 50/100\n",
            "91/91 [==============================] - 0s 4ms/step - loss: 2.8894e-05 - val_loss: 0.0016\n",
            "Epoch 51/100\n",
            "91/91 [==============================] - 0s 4ms/step - loss: 2.8351e-05 - val_loss: 0.0012\n",
            "Epoch 52/100\n",
            "91/91 [==============================] - 0s 4ms/step - loss: 3.1396e-05 - val_loss: 0.0017\n",
            "Epoch 53/100\n",
            "91/91 [==============================] - 0s 3ms/step - loss: 2.9786e-05 - val_loss: 0.0017\n",
            "Epoch 54/100\n",
            "91/91 [==============================] - 0s 3ms/step - loss: 2.8304e-05 - val_loss: 0.0016\n",
            "Epoch 55/100\n",
            "91/91 [==============================] - 0s 3ms/step - loss: 2.8753e-05 - val_loss: 0.0017\n",
            "Epoch 56/100\n",
            "91/91 [==============================] - 0s 3ms/step - loss: 2.7906e-05 - val_loss: 0.0015\n",
            "Epoch 57/100\n",
            "91/91 [==============================] - 0s 3ms/step - loss: 2.8209e-05 - val_loss: 0.0014\n",
            "Epoch 58/100\n",
            "91/91 [==============================] - 0s 3ms/step - loss: 3.0316e-05 - val_loss: 0.0016\n",
            "Epoch 59/100\n",
            "91/91 [==============================] - 0s 4ms/step - loss: 2.7403e-05 - val_loss: 0.0018\n",
            "Epoch 60/100\n",
            "91/91 [==============================] - 0s 4ms/step - loss: 2.9081e-05 - val_loss: 0.0021\n",
            "Epoch 61/100\n",
            "91/91 [==============================] - 0s 3ms/step - loss: 2.7791e-05 - val_loss: 0.0019\n",
            "Epoch 62/100\n",
            "91/91 [==============================] - 0s 4ms/step - loss: 2.8243e-05 - val_loss: 0.0015\n",
            "Epoch 63/100\n",
            "91/91 [==============================] - 0s 3ms/step - loss: 2.7632e-05 - val_loss: 0.0016\n",
            "Epoch 64/100\n",
            "91/91 [==============================] - 0s 4ms/step - loss: 2.8517e-05 - val_loss: 0.0017\n",
            "Epoch 65/100\n",
            "91/91 [==============================] - 0s 3ms/step - loss: 2.7524e-05 - val_loss: 0.0016\n",
            "Epoch 66/100\n",
            "91/91 [==============================] - 0s 3ms/step - loss: 2.8163e-05 - val_loss: 0.0012\n",
            "Epoch 67/100\n",
            "91/91 [==============================] - 0s 4ms/step - loss: 2.9301e-05 - val_loss: 0.0015\n",
            "Epoch 68/100\n",
            "91/91 [==============================] - 0s 3ms/step - loss: 2.8796e-05 - val_loss: 0.0015\n",
            "Epoch 69/100\n",
            "91/91 [==============================] - 0s 4ms/step - loss: 2.9501e-05 - val_loss: 0.0013\n",
            "Epoch 70/100\n",
            "91/91 [==============================] - 0s 4ms/step - loss: 2.8691e-05 - val_loss: 0.0017\n",
            "Epoch 71/100\n",
            "91/91 [==============================] - 0s 4ms/step - loss: 2.9584e-05 - val_loss: 0.0015\n",
            "Epoch 72/100\n",
            "91/91 [==============================] - 0s 4ms/step - loss: 2.7676e-05 - val_loss: 0.0016\n",
            "Epoch 73/100\n",
            "91/91 [==============================] - 0s 3ms/step - loss: 2.7809e-05 - val_loss: 0.0014\n",
            "Epoch 74/100\n",
            "91/91 [==============================] - 0s 3ms/step - loss: 3.0787e-05 - val_loss: 0.0016\n",
            "Epoch 75/100\n",
            "91/91 [==============================] - 0s 4ms/step - loss: 2.8129e-05 - val_loss: 0.0017\n",
            "Epoch 76/100\n",
            "91/91 [==============================] - 0s 3ms/step - loss: 3.0185e-05 - val_loss: 0.0015\n",
            "Epoch 77/100\n",
            "91/91 [==============================] - 0s 4ms/step - loss: 2.8107e-05 - val_loss: 0.0015\n",
            "Epoch 78/100\n",
            "91/91 [==============================] - 0s 3ms/step - loss: 2.8294e-05 - val_loss: 0.0015\n",
            "Epoch 79/100\n",
            "91/91 [==============================] - 0s 3ms/step - loss: 2.9370e-05 - val_loss: 0.0013\n",
            "Epoch 80/100\n",
            "91/91 [==============================] - 0s 3ms/step - loss: 2.9414e-05 - val_loss: 0.0015\n",
            "Epoch 81/100\n",
            "91/91 [==============================] - 0s 3ms/step - loss: 2.8081e-05 - val_loss: 0.0016\n",
            "Epoch 82/100\n",
            "91/91 [==============================] - 0s 4ms/step - loss: 2.8221e-05 - val_loss: 0.0017\n",
            "Epoch 83/100\n",
            "91/91 [==============================] - 0s 4ms/step - loss: 2.9817e-05 - val_loss: 0.0018\n",
            "Epoch 84/100\n",
            "91/91 [==============================] - 0s 4ms/step - loss: 2.6631e-05 - val_loss: 0.0014\n",
            "Epoch 85/100\n",
            "91/91 [==============================] - 0s 4ms/step - loss: 2.6903e-05 - val_loss: 0.0014\n",
            "Epoch 86/100\n",
            "91/91 [==============================] - 0s 4ms/step - loss: 2.8476e-05 - val_loss: 0.0017\n",
            "Epoch 87/100\n",
            "91/91 [==============================] - 0s 4ms/step - loss: 2.7834e-05 - val_loss: 0.0013\n",
            "Epoch 88/100\n",
            "91/91 [==============================] - 0s 3ms/step - loss: 2.7880e-05 - val_loss: 0.0014\n",
            "Epoch 89/100\n",
            "91/91 [==============================] - 0s 4ms/step - loss: 2.8037e-05 - val_loss: 0.0014\n",
            "Epoch 90/100\n",
            "91/91 [==============================] - 0s 4ms/step - loss: 2.9567e-05 - val_loss: 0.0015\n",
            "Epoch 91/100\n",
            "91/91 [==============================] - 0s 3ms/step - loss: 2.9634e-05 - val_loss: 0.0013\n",
            "Epoch 92/100\n",
            "91/91 [==============================] - 0s 3ms/step - loss: 2.7608e-05 - val_loss: 0.0016\n",
            "Epoch 93/100\n",
            "91/91 [==============================] - 0s 3ms/step - loss: 3.4399e-05 - val_loss: 0.0018\n",
            "Epoch 94/100\n",
            "91/91 [==============================] - 0s 3ms/step - loss: 2.8943e-05 - val_loss: 0.0013\n",
            "Epoch 95/100\n",
            "91/91 [==============================] - 0s 4ms/step - loss: 2.7934e-05 - val_loss: 0.0011\n",
            "Epoch 96/100\n",
            "91/91 [==============================] - 0s 4ms/step - loss: 3.0951e-05 - val_loss: 0.0012\n",
            "Epoch 97/100\n",
            "91/91 [==============================] - 0s 3ms/step - loss: 2.9057e-05 - val_loss: 0.0016\n",
            "Epoch 98/100\n",
            "91/91 [==============================] - 0s 4ms/step - loss: 2.9646e-05 - val_loss: 0.0011\n",
            "Epoch 99/100\n",
            "91/91 [==============================] - 0s 3ms/step - loss: 2.9636e-05 - val_loss: 0.0012\n",
            "Epoch 100/100\n",
            "91/91 [==============================] - 0s 3ms/step - loss: 2.8116e-05 - val_loss: 0.0014\n"
          ]
        },
        {
          "output_type": "execute_result",
          "data": {
            "text/plain": [
              "<keras.callbacks.History at 0x7f06dc461790>"
            ]
          },
          "metadata": {},
          "execution_count": 198
        }
      ]
    },
    {
      "cell_type": "code",
      "metadata": {
        "id": "Gd4kjcoI3Cdn",
        "colab": {
          "base_uri": "https://localhost:8080/"
        },
        "outputId": "cbce7ca9-7610-4876-edc3-380f3bb97d96"
      },
      "source": [
        "model.summary()"
      ],
      "execution_count": null,
      "outputs": [
        {
          "output_type": "stream",
          "name": "stdout",
          "text": [
            "Model: \"sequential_5\"\n",
            "_________________________________________________________________\n",
            "Layer (type)                 Output Shape              Param #   \n",
            "=================================================================\n",
            "lstm_5 (LSTM)                (None, 4)                 112       \n",
            "_________________________________________________________________\n",
            "dense_5 (Dense)              (None, 1)                 5         \n",
            "=================================================================\n",
            "Total params: 117\n",
            "Trainable params: 117\n",
            "Non-trainable params: 0\n",
            "_________________________________________________________________\n"
          ]
        }
      ]
    },
    {
      "cell_type": "code",
      "metadata": {
        "id": "1QztDbdo3ICH"
      },
      "source": [
        "trainPredict=model.predict(Xtrain)\n",
        "testPredict=model.predict(Xtest)"
      ],
      "execution_count": null,
      "outputs": []
    },
    {
      "cell_type": "code",
      "metadata": {
        "id": "ezLnlwTA3P6n"
      },
      "source": [
        "trainPredict= np.c_[trainPredict, np.zeros(trainPredict.shape)]\n",
        "testPredict= np.c_[testPredict, np.zeros(testPredict.shape)]"
      ],
      "execution_count": null,
      "outputs": []
    },
    {
      "cell_type": "code",
      "metadata": {
        "id": "LxyZGp1_3jEW"
      },
      "source": [
        "#Invert Predictions\n",
        "\n",
        "trainPredict = scaler.inverse_transform(trainPredict)\n",
        "trainPredict = [x[0] for x in trainPredict]\n",
        "\n",
        "testPredict= scaler.inverse_transform(testPredict)\n",
        "testPredict = [x[0]  for x in testPredict]"
      ],
      "execution_count": null,
      "outputs": []
    },
    {
      "cell_type": "code",
      "metadata": {
        "id": "PkG1j-RtNQRs",
        "colab": {
          "base_uri": "https://localhost:8080/"
        },
        "outputId": "df4adf60-63d5-42ba-c380-216a1c92e2f9"
      },
      "source": [
        "print(trainPredict[:5])\n",
        "print(testPredict[:5])\n",
        "\n"
      ],
      "execution_count": null,
      "outputs": [
        {
          "output_type": "stream",
          "name": "stdout",
          "text": [
            "[27.183924831156702, 27.02699559120812, 27.264802633655847, 26.920924123864072, 27.45068326450292]\n",
            "[111.84010421865652, 110.23003536549733, 111.5419315007198, 106.18595787930214, 106.43779555871016]\n"
          ]
        }
      ]
    },
    {
      "cell_type": "code",
      "metadata": {
        "colab": {
          "base_uri": "https://localhost:8080/"
        },
        "id": "2GFuE9Gd_S-R",
        "outputId": "22326227-4875-48b9-d202-1a398d4a5b38"
      },
      "source": [
        "print(df[:5])\n"
      ],
      "execution_count": null,
      "outputs": [
        {
          "output_type": "stream",
          "name": "stdout",
          "text": [
            "                Close   returns  log_returns\n",
            "Date                                        \n",
            "2013-01-03  27.250000 -0.013396    -0.013487\n",
            "2013-01-04  26.740000 -0.018716    -0.018893\n",
            "2013-01-07  26.690001 -0.001870    -0.001872\n",
            "2013-01-08  26.549999 -0.005245    -0.005259\n",
            "2013-01-09  26.700001  0.005650     0.005634\n"
          ]
        }
      ]
    },
    {
      "cell_type": "code",
      "metadata": {
        "id": "S6uLhlWa-SMW"
      },
      "source": [
        "from sklearn.metrics import mean_squared_error\n"
      ],
      "execution_count": null,
      "outputs": []
    },
    {
      "cell_type": "code",
      "metadata": {
        "id": "bZeQZVKKNceF",
        "colab": {
          "base_uri": "https://localhost:8080/"
        },
        "outputId": "07dfe6ef-ed81-4d24-d145-136b1be896cf"
      },
      "source": [
        "# calculate root mean squared error\n",
        "\n",
        "trainscore=mean_squared_error([x[0][0] for x in Xtrain], trainPredict, squared=False)\n",
        "print(\"Train Score: %.2f RMSE\" % (trainscore))\n",
        "\n",
        "testscore=mean_squared_error([x[0][0] for x in Xtest], testPredict, squared=False)\n",
        "print(\"Test Score: %.2f RMSE\" % (testscore))"
      ],
      "execution_count": null,
      "outputs": [
        {
          "output_type": "stream",
          "name": "stdout",
          "text": [
            "Train Score: 59.97 RMSE\n",
            "Test Score: 128.44 RMSE\n"
          ]
        }
      ]
    },
    {
      "cell_type": "code",
      "metadata": {
        "id": "28BaqqNU_Yeg"
      },
      "source": [
        "#pip install jupyterlab"
      ],
      "execution_count": null,
      "outputs": []
    },
    {
      "cell_type": "code",
      "metadata": {
        "id": "L5q2ReH-_pb5"
      },
      "source": [
        "#jupyter-lab"
      ],
      "execution_count": null,
      "outputs": []
    }
  ]
}